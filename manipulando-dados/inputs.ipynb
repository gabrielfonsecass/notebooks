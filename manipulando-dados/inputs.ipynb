{
 "cells": [
  {
   "cell_type": "markdown",
   "metadata": {},
   "source": [
    "## Coletando Dados"
   ]
  },
  {
   "cell_type": "code",
   "execution_count": 5,
   "metadata": {},
   "outputs": [],
   "source": [
    "nome = input('Escreva seu nome: ')"
   ]
  },
  {
   "cell_type": "code",
   "execution_count": 7,
   "metadata": {},
   "outputs": [
    {
     "data": {
      "text/plain": [
       "'Gabriel'"
      ]
     },
     "execution_count": 7,
     "metadata": {},
     "output_type": "execute_result"
    }
   ],
   "source": [
    "nome"
   ]
  },
  {
   "cell_type": "code",
   "execution_count": 8,
   "metadata": {},
   "outputs": [],
   "source": [
    "ano_entrada = input('Escreva o ano de entrada do estudante: ')"
   ]
  },
  {
   "cell_type": "code",
   "execution_count": 9,
   "metadata": {},
   "outputs": [
    {
     "data": {
      "text/plain": [
       "str"
      ]
     },
     "execution_count": 9,
     "metadata": {},
     "output_type": "execute_result"
    }
   ],
   "source": [
    "type(ano_entrada)"
   ]
  },
  {
   "cell_type": "code",
   "execution_count": 10,
   "metadata": {},
   "outputs": [],
   "source": [
    "ano_entrada = int(input('Escreva o ano de entrada do estudante: '))"
   ]
  },
  {
   "cell_type": "code",
   "execution_count": 11,
   "metadata": {},
   "outputs": [
    {
     "data": {
      "text/plain": [
       "int"
      ]
     },
     "execution_count": 11,
     "metadata": {},
     "output_type": "execute_result"
    }
   ],
   "source": [
    "type(ano_entrada)"
   ]
  },
  {
   "cell_type": "code",
   "execution_count": 14,
   "metadata": {},
   "outputs": [
    {
     "name": "stdout",
     "output_type": "stream",
     "text": [
      "\n"
     ]
    }
   ],
   "source": [
    "nota_entrada = float(input('Digite a nota adquirida durante a prova: '))\n",
    "print(f'')"
   ]
  },
  {
   "cell_type": "code",
   "execution_count": 17,
   "metadata": {},
   "outputs": [
    {
     "name": "stdout",
     "output_type": "stream",
     "text": [
      "Ano de entrada 2025 - com a nota de aprovação 8.34\n"
     ]
    }
   ],
   "source": [
    "nota_entrada = float(input('Digite a nota adquirida durante a prova: '))\n",
    "print(f'Ano de entrada {ano_entrada} - com a nota de aprovação {nota_entrada}')"
   ]
  },
  {
   "cell_type": "code",
   "execution_count": 18,
   "metadata": {},
   "outputs": [
    {
     "name": "stdout",
     "output_type": "stream",
     "text": [
      "O nome da aluna é Ana Maria e sua idade é 17\n"
     ]
    }
   ],
   "source": [
    "nome = \"Ana Maria\"\n",
    "idade = 17\n",
    "\n",
    "print(f\"O nome da aluna é {nome} e sua idade é {idade}\")"
   ]
  },
  {
   "cell_type": "code",
   "execution_count": null,
   "metadata": {},
   "outputs": [
    {
     "name": "stdout",
     "output_type": "stream",
     "text": [
      "Nome do aluno: Fabricio Daniel\n"
     ]
    }
   ],
   "source": [
    "#Operadores de formatação\n",
    "#string %s\n",
    "nome_aluno = 'Fabricio Daniel'\n",
    "print('Nome do aluno: %s' %(nome_aluno))"
   ]
  },
  {
   "cell_type": "code",
   "execution_count": 24,
   "metadata": {},
   "outputs": [
    {
     "name": "stdout",
     "output_type": "stream",
     "text": [
      "Nome do aluno é Gabriel Santos, ele tem 15 anos e sua média é 8.45\n"
     ]
    }
   ],
   "source": [
    "#inteiro %d\n",
    "#float %f\n",
    "#caractere %c\n",
    "\n",
    "nome_aluno = 'Gabriel Santos'\n",
    "idade_aluno = 15\n",
    "media_aluno = 8.45\n",
    "\n",
    "print('Nome do aluno é %s, ele tem %d anos e sua média é %.2f' %(nome_aluno, idade_aluno, media_aluno))"
   ]
  },
  {
   "cell_type": "code",
   "execution_count": 25,
   "metadata": {},
   "outputs": [
    {
     "name": "stdout",
     "output_type": "stream",
     "text": [
      "Nome do aluno é Gabriel Santos, ele tem 15 anos e sua média é 8.45\n"
     ]
    }
   ],
   "source": [
    "#format\n",
    "nome_aluno = 'Gabriel Santos'\n",
    "idade_aluno = 15\n",
    "media_aluno = 8.45\n",
    "\n",
    "print('Nome do aluno é {}, ele tem {} anos e sua média é {}'.format(nome_aluno, idade_aluno, media_aluno))"
   ]
  }
 ],
 "metadata": {
  "kernelspec": {
   "display_name": "Python 3",
   "language": "python",
   "name": "python3"
  },
  "language_info": {
   "codemirror_mode": {
    "name": "ipython",
    "version": 3
   },
   "file_extension": ".py",
   "mimetype": "text/x-python",
   "name": "python",
   "nbconvert_exporter": "python",
   "pygments_lexer": "ipython3",
   "version": "3.13.2"
  }
 },
 "nbformat": 4,
 "nbformat_minor": 2
}
