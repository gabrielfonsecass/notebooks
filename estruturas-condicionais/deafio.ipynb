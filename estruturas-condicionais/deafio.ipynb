{
 "cells": [
  {
   "cell_type": "markdown",
   "metadata": {},
   "source": [
    "1) Escreva um programa que peça à pessoa usuária para fornecer dois números e exibir o número maior."
   ]
  },
  {
   "cell_type": "code",
   "execution_count": 3,
   "metadata": {},
   "outputs": [
    {
     "name": "stdout",
     "output_type": "stream",
     "text": [
      "10.0\n"
     ]
    }
   ],
   "source": [
    "numero_1 = float(input('Insira o primeiro número: '))\n",
    "numero_2 = float(input('Insira o segundo número: '))\n",
    "\n",
    "if numero_1 > numero_2:\n",
    "    print(numero_1)\n",
    "elif numero_2 > numero_1:\n",
    "    print(numero_2)    "
   ]
  },
  {
   "cell_type": "markdown",
   "metadata": {},
   "source": [
    "2) Escreva um programa que solicite o percentual de crescimento de produção de uma empresa e informe se houve um crescimento (porcentagem positiva) ou decrescimento (porcentagem negativa)."
   ]
  },
  {
   "cell_type": "code",
   "execution_count": 6,
   "metadata": {},
   "outputs": [
    {
     "name": "stdout",
     "output_type": "stream",
     "text": [
      "Nada mudou\n"
     ]
    }
   ],
   "source": [
    "crescimento = float(input(\"Insira o percentual de crescimento de produção: \"))\n",
    "\n",
    "if crescimento > 0:\n",
    "    print('Cresceu')\n",
    "elif crescimento < 0:\n",
    "    print('Decresceu')\n",
    "else:\n",
    "    print('Nada mudou')"
   ]
  },
  {
   "cell_type": "markdown",
   "metadata": {},
   "source": [
    "3) Escreva um programa que determine se uma letra fornecida pela pessoa usuária é uma vogal ou consoante."
   ]
  },
  {
   "cell_type": "code",
   "execution_count": 11,
   "metadata": {},
   "outputs": [
    {
     "name": "stdout",
     "output_type": "stream",
     "text": [
      "é uma vogal\n"
     ]
    }
   ],
   "source": [
    "letra = input('insira uma letra: ')\n",
    "vogais = 'a,e,i,o,u'\n",
    "\n",
    "if letra in vogais:\n",
    "    print('é uma vogal')\n",
    "else:\n",
    "    print('não é uma vogal')"
   ]
  },
  {
   "cell_type": "markdown",
   "metadata": {},
   "source": [
    "4) Escreva um programa que leia valores médios de preços de um modelo de carro por 3 anos consecutivos e exiba o valor mais alto e mais baixo entre esses três anos."
   ]
  },
  {
   "cell_type": "code",
   "execution_count": 2,
   "metadata": {},
   "outputs": [
    {
     "name": "stdout",
     "output_type": "stream",
     "text": [
      "O ano 1 teve o valor mais alto:  800.0\n",
      "O ano 3 teve o valor mais baixo:  200.0\n"
     ]
    }
   ],
   "source": [
    "ano_1 = float(input(\"Insira o valor médio do ano 1: \"))\n",
    "ano_2 = float(input(\"Insira o valor médio do ano 2: \"))\n",
    "ano_3 = float(input(\"Insira o valor médio do ano 3: \"))\n",
    "\n",
    "\n",
    "if ano_1 > ano_2 and ano_1 > ano_3:\n",
    "    print('O ano 1 teve o valor mais alto: ', ano_1)\n",
    "elif ano_2 > ano_1 and ano_2 > ano_3:\n",
    "    print('O ano 2 teve o valor mais alto: ', ano_2)\n",
    "elif ano_3 > ano_1 and ano_3 > ano_2:\n",
    "    print('O ano 1 teve o valor mais alto: ', ano_3)\n",
    "\n",
    "if ano_1 < ano_2 and ano_1 < ano_3:\n",
    "    print('O ano 1 teve o valor mais baixo: ', ano_1)\n",
    "elif ano_2 < ano_1 and ano_2 < ano_3:\n",
    "    print('O ano 2 teve o valor mais baixo: ', ano_2)\n",
    "elif ano_3 < ano_1 and ano_3 < ano_2:\n",
    "    print('O ano 3 teve o valor mais baixo: ', ano_3)\n"
   ]
  },
  {
   "cell_type": "markdown",
   "metadata": {},
   "source": [
    "5) Escreva um programa que pergunte sobre o preço de três produtos e indique qual é o produto mais barato para comprar."
   ]
  },
  {
   "cell_type": "code",
   "execution_count": 5,
   "metadata": {},
   "outputs": [
    {
     "name": "stdout",
     "output_type": "stream",
     "text": [
      "O produto 2 tem o valor mais baixo:  400.0\n"
     ]
    }
   ],
   "source": [
    "produto_1 = float(input(\"Insira o valor do produto 1: \"))\n",
    "produto_2 = float(input(\"Insira o valor do produto 2: \"))\n",
    "produto_3 = float(input(\"Insira o valor do produto 3: \"))\n",
    "\n",
    "if produto_1 < produto_2 and produto_1 < produto_3:\n",
    "    print('O produto 1 tem o valor mais baixo: ', produto_1)\n",
    "elif produto_2 < produto_1 and produto_2 < produto_3:\n",
    "    print('O produto 2 tem o valor mais baixo: ', produto_2)\n",
    "elif produto_3 < produto_1 and produto_3 < produto_2:\n",
    "    print('O produto 3 tem o valor mais baixo: ', produto_3)\n"
   ]
  },
  {
   "cell_type": "markdown",
   "metadata": {},
   "source": []
  }
 ],
 "metadata": {
  "kernelspec": {
   "display_name": "Python 3",
   "language": "python",
   "name": "python3"
  },
  "language_info": {
   "codemirror_mode": {
    "name": "ipython",
    "version": 3
   },
   "file_extension": ".py",
   "mimetype": "text/x-python",
   "name": "python",
   "nbconvert_exporter": "python",
   "pygments_lexer": "ipython3",
   "version": "3.13.2"
  }
 },
 "nbformat": 4,
 "nbformat_minor": 2
}
