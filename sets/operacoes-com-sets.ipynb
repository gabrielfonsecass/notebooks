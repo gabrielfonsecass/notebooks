{
 "cells": [
  {
   "cell_type": "markdown",
   "metadata": {},
   "source": [
    "#### Operações com sets"
   ]
  },
  {
   "cell_type": "code",
   "execution_count": 1,
   "metadata": {},
   "outputs": [
    {
     "name": "stdout",
     "output_type": "stream",
     "text": [
      "{'Travas Elétricas', 'Rodas de Liga', 'Central Multimídia', 'Piloto Automático'}\n"
     ]
    }
   ],
   "source": [
    "acessorios_passat = {'Rodas de Liga', 'Travas Elétricas', 'Piloto Automático', 'Central Multimídia'}\n",
    "\n",
    "print(acessorios_passat)"
   ]
  },
  {
   "cell_type": "code",
   "execution_count": 2,
   "metadata": {},
   "outputs": [
    {
     "name": "stdout",
     "output_type": "stream",
     "text": [
      "{'Central Multimídia', '4 x 4', 'Piloto Automático', 'Teto Panorâmico'}\n"
     ]
    }
   ],
   "source": [
    "acessorios_crossfox = {'Teto Panorâmico', '4 x 4', 'Piloto Automático', 'Central Multimídia'}\n",
    "\n",
    "print(acessorios_crossfox)"
   ]
  },
  {
   "cell_type": "code",
   "execution_count": 3,
   "metadata": {},
   "outputs": [
    {
     "name": "stdout",
     "output_type": "stream",
     "text": [
      "{'Travas Elétricas', 'Rodas de Liga', 'Controle de Estabilidade', 'Câmbio Automático'}\n"
     ]
    }
   ],
   "source": [
    "acessorios_jetta = {'Controle de Estabilidade', 'Câmbio Automático', 'Travas Elétricas', 'Rodas de Liga'}\n",
    "\n",
    "print(acessorios_jetta)"
   ]
  },
  {
   "cell_type": "markdown",
   "metadata": {},
   "source": [
    "#### Disjunção"
   ]
  },
  {
   "cell_type": "code",
   "execution_count": 4,
   "metadata": {},
   "outputs": [
    {
     "data": {
      "text/plain": [
       "False"
      ]
     },
     "execution_count": 4,
     "metadata": {},
     "output_type": "execute_result"
    }
   ],
   "source": [
    "set.isdisjoint(acessorios_passat, acessorios_crossfox)"
   ]
  },
  {
   "cell_type": "markdown",
   "metadata": {},
   "source": [
    "#### Interseção"
   ]
  },
  {
   "cell_type": "code",
   "execution_count": 7,
   "metadata": {},
   "outputs": [
    {
     "data": {
      "text/plain": [
       "{'Central Multimídia', 'Piloto Automático'}"
      ]
     },
     "execution_count": 7,
     "metadata": {},
     "output_type": "execute_result"
    }
   ],
   "source": [
    "acessorios_passat & acessorios_crossfox"
   ]
  },
  {
   "cell_type": "code",
   "execution_count": 8,
   "metadata": {},
   "outputs": [
    {
     "data": {
      "text/plain": [
       "{'Rodas de Liga', 'Travas Elétricas'}"
      ]
     },
     "execution_count": 8,
     "metadata": {},
     "output_type": "execute_result"
    }
   ],
   "source": [
    "acessorios_passat & acessorios_jetta"
   ]
  },
  {
   "cell_type": "code",
   "execution_count": 9,
   "metadata": {},
   "outputs": [
    {
     "data": {
      "text/plain": [
       "{'Central Multimídia', 'Piloto Automático'}"
      ]
     },
     "execution_count": 9,
     "metadata": {},
     "output_type": "execute_result"
    }
   ],
   "source": [
    "set.intersection(acessorios_passat, acessorios_crossfox)"
   ]
  },
  {
   "cell_type": "markdown",
   "metadata": {},
   "source": [
    "#### União"
   ]
  },
  {
   "cell_type": "code",
   "execution_count": 10,
   "metadata": {},
   "outputs": [
    {
     "data": {
      "text/plain": [
       "{'4 x 4',\n",
       " 'Central Multimídia',\n",
       " 'Piloto Automático',\n",
       " 'Rodas de Liga',\n",
       " 'Teto Panorâmico',\n",
       " 'Travas Elétricas'}"
      ]
     },
     "execution_count": 10,
     "metadata": {},
     "output_type": "execute_result"
    }
   ],
   "source": [
    "acessorios_passat | acessorios_crossfox"
   ]
  },
  {
   "cell_type": "code",
   "execution_count": 11,
   "metadata": {},
   "outputs": [
    {
     "data": {
      "text/plain": [
       "{'4 x 4',\n",
       " 'Central Multimídia',\n",
       " 'Controle de Estabilidade',\n",
       " 'Câmbio Automático',\n",
       " 'Piloto Automático',\n",
       " 'Rodas de Liga',\n",
       " 'Teto Panorâmico',\n",
       " 'Teto Solar',\n",
       " 'Travas Elétricas'}"
      ]
     },
     "execution_count": 11,
     "metadata": {},
     "output_type": "execute_result"
    }
   ],
   "source": [
    "set.union(acessorios_passat, acessorios_jetta, acessorios_crossfox, {'Teto Solar'})"
   ]
  },
  {
   "cell_type": "markdown",
   "metadata": {},
   "source": [
    "#### Performance"
   ]
  },
  {
   "cell_type": "code",
   "execution_count": 13,
   "metadata": {},
   "outputs": [],
   "source": [
    "carros = {'Jetta Variant', 'Passat', 'Crossfox', 'Dodge Journey'}"
   ]
  },
  {
   "cell_type": "code",
   "execution_count": 15,
   "metadata": {},
   "outputs": [
    {
     "data": {
      "text/plain": [
       "True"
      ]
     },
     "execution_count": 15,
     "metadata": {},
     "output_type": "execute_result"
    }
   ],
   "source": [
    "'Crossfox'in carros"
   ]
  },
  {
   "cell_type": "markdown",
   "metadata": {},
   "source": [
    "#### Performance com vários elementos"
   ]
  },
  {
   "cell_type": "code",
   "execution_count": 4,
   "metadata": {},
   "outputs": [],
   "source": [
    "elementos_set = set(range(10000))\n",
    "elementos_list = list(range(10000))\n",
    "elementos_tuple = tuple(range(10000))"
   ]
  },
  {
   "cell_type": "code",
   "execution_count": 6,
   "metadata": {},
   "outputs": [],
   "source": [
    "def verificar_elemento_in(elemento_iteravel):\n",
    "    \"\"\"Verifica se cada número no intervalo especificado pertence ao iterável `elemento_iteravel`\"\"\"\n",
    "\n",
    "    for i in range(10000):\n",
    "        if i in elemento_iteravel:\n",
    "            pass"
   ]
  },
  {
   "cell_type": "code",
   "execution_count": 8,
   "metadata": {},
   "outputs": [
    {
     "name": "stdout",
     "output_type": "stream",
     "text": [
      "Tempo de execução set: \n",
      "CPU times: total: 0 ns\n",
      "Wall time: 683 μs\n",
      "==============================\n",
      "Tempo de execução list: \n",
      "CPU times: total: 234 ms\n",
      "Wall time: 258 ms\n",
      "==============================\n",
      "Tempo de execução tuple: \n",
      "CPU times: total: 250 ms\n",
      "Wall time: 252 ms\n",
      "==============================\n"
     ]
    }
   ],
   "source": [
    "print(\"Tempo de execução set: \")\n",
    "%time verificar_elemento_in(elementos_set)\n",
    "print(\"=\"*30)\n",
    "\n",
    "print(\"Tempo de execução list: \")\n",
    "%time verificar_elemento_in(elementos_list)\n",
    "print(\"=\"*30)\n",
    "\n",
    "print(\"Tempo de execução tuple: \")\n",
    "%time verificar_elemento_in(elementos_tuple)\n",
    "print(\"=\"*30)\n",
    "\n"
   ]
  }
 ],
 "metadata": {
  "kernelspec": {
   "display_name": "Python 3",
   "language": "python",
   "name": "python3"
  },
  "language_info": {
   "codemirror_mode": {
    "name": "ipython",
    "version": 3
   },
   "file_extension": ".py",
   "mimetype": "text/x-python",
   "name": "python",
   "nbconvert_exporter": "python",
   "pygments_lexer": "ipython3",
   "version": "3.13.2"
  }
 },
 "nbformat": 4,
 "nbformat_minor": 2
}
