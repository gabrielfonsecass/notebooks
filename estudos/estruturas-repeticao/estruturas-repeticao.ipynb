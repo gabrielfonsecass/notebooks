{
 "cells": [
  {
   "cell_type": "markdown",
   "metadata": {},
   "source": [
    "### Estruturas de Repetição"
   ]
  },
  {
   "cell_type": "code",
   "execution_count": 1,
   "metadata": {},
   "outputs": [
    {
     "name": "stdout",
     "output_type": "stream",
     "text": [
      "Média: 30.0\n"
     ]
    }
   ],
   "source": [
    "nota_1 = float(input('Digite a primeira nota: '))\n",
    "nota_2 = float(input('Digite a segunda nota: '))\n",
    "\n",
    "print(f'Média: {(nota_1+nota_2)/2}')"
   ]
  },
  {
   "cell_type": "code",
   "execution_count": 2,
   "metadata": {},
   "outputs": [
    {
     "name": "stdout",
     "output_type": "stream",
     "text": [
      "Média: 7.0\n",
      "Média: 7.0\n",
      "Média: 8.0\n"
     ]
    }
   ],
   "source": [
    "nota_1 = float(input('Digite a 1° nota: '))\n",
    "nota_2 = float(input('Digite a 2° nota: '))\n",
    "\n",
    "print(f'Média: {(nota_1+nota_2)/2}')\n",
    "\n",
    "nota_1 = float(input('Digite a 1° nota: '))\n",
    "nota_2 = float(input('Digite a 2° nota: '))\n",
    "\n",
    "print(f'Média: {(nota_1+nota_2)/2}')\n",
    "\n",
    "nota_1 = float(input('Digite a 1° nota: '))\n",
    "nota_2 = float(input('Digite a 2° nota: '))\n",
    "\n",
    "print(f'Média: {(nota_1+nota_2)/2}')"
   ]
  },
  {
   "cell_type": "code",
   "execution_count": 3,
   "metadata": {},
   "outputs": [
    {
     "name": "stdout",
     "output_type": "stream",
     "text": [
      "1\n",
      "2\n",
      "3\n",
      "4\n",
      "5\n",
      "6\n",
      "7\n",
      "8\n",
      "9\n",
      "10\n"
     ]
    }
   ],
   "source": [
    "contador  = 1\n",
    "while contador <= 10:\n",
    "    print(contador)\n",
    "    contador = contador+1"
   ]
  },
  {
   "cell_type": "code",
   "execution_count": 4,
   "metadata": {},
   "outputs": [
    {
     "name": "stdout",
     "output_type": "stream",
     "text": [
      "1\n",
      "2\n",
      "3\n",
      "4\n",
      "5\n",
      "6\n",
      "7\n",
      "8\n",
      "9\n",
      "10\n"
     ]
    }
   ],
   "source": [
    "contador = 1\n",
    "while contador <= 10:\n",
    "    print(contador)\n",
    "    contador += 1"
   ]
  },
  {
   "cell_type": "code",
   "execution_count": null,
   "metadata": {},
   "outputs": [
    {
     "name": "stdout",
     "output_type": "stream",
     "text": [
      "Média: 4.5\n",
      "Média: 3.0\n",
      "Média: 7.0\n",
      "Média: 3.5\n"
     ]
    }
   ],
   "source": [
    "quantidade_medias = 1\n",
    "while quantidade_medias <= 3:\n",
    "    nota_1 = float(input('Digite a 1° nota: '))\n",
    "    nota_2 = float(input('Digite a 2° nota: '))\n",
    "\n",
    "    print(f'Média: {(nota_1+nota_2)/2}')\n",
    "    quantidade_medias += 1"
   ]
  },
  {
   "cell_type": "code",
   "execution_count": 6,
   "metadata": {},
   "outputs": [
    {
     "name": "stdout",
     "output_type": "stream",
     "text": [
      "1\n",
      "2\n",
      "3\n",
      "4\n",
      "5\n",
      "6\n",
      "7\n",
      "8\n",
      "9\n",
      "10\n"
     ]
    }
   ],
   "source": [
    "for contador in range(1,11):\n",
    "    print(contador)"
   ]
  },
  {
   "cell_type": "code",
   "execution_count": 8,
   "metadata": {},
   "outputs": [
    {
     "name": "stdout",
     "output_type": "stream",
     "text": [
      "Média: 3.5\n",
      "Média: 5.5\n",
      "Média: 7.5\n"
     ]
    }
   ],
   "source": [
    "for quantidade_medias in range(1,4):\n",
    "    nota_1 = float(input('Digite a 1° nota: '))\n",
    "    nota_2 = float(input('Digite a 2° nota: '))\n",
    "\n",
    "    print(f'Média: {(nota_1+nota_2)/2}')"
   ]
  },
  {
   "cell_type": "code",
   "execution_count": 9,
   "metadata": {},
   "outputs": [
    {
     "name": "stdout",
     "output_type": "stream",
     "text": [
      "1\n",
      "2\n",
      "3\n",
      "5\n"
     ]
    }
   ],
   "source": [
    "for i in range(1,6):\n",
    "    if i == 4:\n",
    "        continue\n",
    "    print(i)"
   ]
  },
  {
   "cell_type": "code",
   "execution_count": 10,
   "metadata": {},
   "outputs": [
    {
     "name": "stdout",
     "output_type": "stream",
     "text": [
      "1\n",
      "2\n",
      "3\n"
     ]
    }
   ],
   "source": [
    "for i in range(1,6):\n",
    "    if i == 4:\n",
    "        break\n",
    "    print(i)"
   ]
  }
 ],
 "metadata": {
  "kernelspec": {
   "display_name": "Python 3",
   "language": "python",
   "name": "python3"
  },
  "language_info": {
   "codemirror_mode": {
    "name": "ipython",
    "version": 3
   },
   "file_extension": ".py",
   "mimetype": "text/x-python",
   "name": "python",
   "nbconvert_exporter": "python",
   "pygments_lexer": "ipython3",
   "version": "3.13.2"
  }
 },
 "nbformat": 4,
 "nbformat_minor": 2
}
