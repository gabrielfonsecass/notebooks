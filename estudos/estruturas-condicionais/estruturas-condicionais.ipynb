{
 "cells": [
  {
   "cell_type": "markdown",
   "metadata": {},
   "source": [
    "### Estruturas Condicionais"
   ]
  },
  {
   "cell_type": "code",
   "execution_count": 8,
   "metadata": {},
   "outputs": [
    {
     "name": "stdout",
     "output_type": "stream",
     "text": [
      "Condição falsa\n",
      "fora do bloco do if\n"
     ]
    }
   ],
   "source": [
    "if 2>7:\n",
    "    print('Condição verdadeira')\n",
    "    print('ainda no bloco')\n",
    "else:\n",
    "    print('Condição falsa')    \n",
    "print('fora do bloco do if')"
   ]
  },
  {
   "cell_type": "code",
   "execution_count": 9,
   "metadata": {},
   "outputs": [
    {
     "name": "stdout",
     "output_type": "stream",
     "text": [
      "A idade A é maior que a idade B\n"
     ]
    }
   ],
   "source": [
    "idade_a = int(input(\"Digite a idade A: \"))\n",
    "idade_b = int(input(\"Digite a idade b: \"))\n",
    "\n",
    "if idade_a>idade_b:\n",
    "    print(\"A idade A é maior que a idade B\")"
   ]
  },
  {
   "cell_type": "code",
   "execution_count": 10,
   "metadata": {},
   "outputs": [
    {
     "name": "stdout",
     "output_type": "stream",
     "text": [
      "A idade A é maior ou igual que a idade B\n"
     ]
    }
   ],
   "source": [
    "idade_a = int(input(\"Digite a idade A: \"))\n",
    "idade_b = int(input(\"Digite a idade b: \"))\n",
    "\n",
    "if idade_a>=idade_b:\n",
    "    print(\"A idade A é maior ou igual que a idade B\")"
   ]
  },
  {
   "cell_type": "code",
   "execution_count": 11,
   "metadata": {},
   "outputs": [
    {
     "name": "stdout",
     "output_type": "stream",
     "text": [
      "A idade A é menor ou igual que a idade B\n"
     ]
    }
   ],
   "source": [
    "idade_a = int(input(\"Digite a idade A: \"))\n",
    "idade_b = int(input(\"Digite a idade b: \"))\n",
    "\n",
    "if idade_a<=idade_b:\n",
    "    print(\"A idade A é menor ou igual que a idade B\")"
   ]
  },
  {
   "cell_type": "code",
   "execution_count": 12,
   "metadata": {},
   "outputs": [
    {
     "name": "stdout",
     "output_type": "stream",
     "text": [
      "A idade A é igual a idade B\n"
     ]
    }
   ],
   "source": [
    "idade_a = int(input(\"Digite a idade A: \"))\n",
    "idade_b = int(input(\"Digite a idade b: \"))\n",
    "\n",
    "if idade_a==idade_b:\n",
    "    print(\"A idade A é igual a idade B\")"
   ]
  },
  {
   "cell_type": "code",
   "execution_count": 13,
   "metadata": {},
   "outputs": [
    {
     "name": "stdout",
     "output_type": "stream",
     "text": [
      "A idade A é diferente da idade B\n"
     ]
    }
   ],
   "source": [
    "idade_a = int(input(\"Digite a idade A: \"))\n",
    "idade_b = int(input(\"Digite a idade b: \"))\n",
    "\n",
    "if idade_a!=idade_b:\n",
    "    print(\"A idade A é diferente da idade B\")"
   ]
  },
  {
   "cell_type": "code",
   "execution_count": 14,
   "metadata": {},
   "outputs": [
    {
     "name": "stdout",
     "output_type": "stream",
     "text": [
      "Aprovado(a)\n"
     ]
    }
   ],
   "source": [
    "media = float(input('Digite a média: '))\n",
    "\n",
    "if media >= 6.0:\n",
    "    print('Aprovado(a)')\n",
    "else:\n",
    "    print('Reprovado(a)')"
   ]
  },
  {
   "cell_type": "code",
   "execution_count": 19,
   "metadata": {},
   "outputs": [
    {
     "name": "stdout",
     "output_type": "stream",
     "text": [
      "Reprovado(a)\n"
     ]
    }
   ],
   "source": [
    "media = float(input('Digite a média: '))\n",
    "\n",
    "if media >= 6.0:\n",
    "    print('Aprovado(a)')\n",
    "if 6.0 > media >= 4.0:\n",
    "    print('Recuperação')\n",
    "if media < 4.0:\n",
    "    print('Reprovado(a)')"
   ]
  },
  {
   "cell_type": "markdown",
   "metadata": {},
   "source": [
    "### Elif"
   ]
  },
  {
   "cell_type": "code",
   "execution_count": null,
   "metadata": {},
   "outputs": [],
   "source": [
    "media = float(input('Digite a média: '))\n",
    "\n",
    "if media >= 6.0:\n",
    "    print('Aprovado(a)')\n",
    "elif 6.0 > media >= 4.0:\n",
    "    print('Recuperação')\n",
    "else:\n",
    "    print('Reprovado(a)')"
   ]
  },
  {
   "cell_type": "markdown",
   "metadata": {},
   "source": [
    "### Operadores lógicos"
   ]
  },
  {
   "cell_type": "code",
   "execution_count": 22,
   "metadata": {},
   "outputs": [],
   "source": [
    "lista = 'José da Silva, Maria Oliveira, Pedro Martins, Ana Souza, Carlos Rodrigues, Juliana Santos, Bruno Gomes, Beatriz Costa, Felipe Almeida, Mariana Fernandes, João Pinto, Luísa Nascimento, Gabriel Souza, Manuela Santos, Thiago Oliveira, Sofia Ferreira, Rafael Albuquerque, Isabella Gomes, Bruno Costa, Maria Martins, Rafaela Souza, Matheus Fernandes, Luísa Almeida, Beatriz Pinto, Mariana Rodrigues, Gabriel Nascimento, João Ferreira, Maria Albuquerque, Felipe Oliveira'\n",
    "\n",
    "nome_1 = \"Mariana Rodrigues\"\n",
    "nome_2 = \"Marcelo Nogueira\""
   ]
  },
  {
   "cell_type": "code",
   "execution_count": 23,
   "metadata": {},
   "outputs": [
    {
     "name": "stdout",
     "output_type": "stream",
     "text": [
      "Está na lista\n"
     ]
    }
   ],
   "source": [
    "if nome_1 in lista:\n",
    "    print('Está na lista')\n",
    "else:\n",
    "    print('Não está na lista')"
   ]
  }
 ],
 "metadata": {
  "kernelspec": {
   "display_name": "Python 3",
   "language": "python",
   "name": "python3"
  },
  "language_info": {
   "codemirror_mode": {
    "name": "ipython",
    "version": 3
   },
   "file_extension": ".py",
   "mimetype": "text/x-python",
   "name": "python",
   "nbconvert_exporter": "python",
   "pygments_lexer": "ipython3",
   "version": "3.13.2"
  }
 },
 "nbformat": 4,
 "nbformat_minor": 2
}
